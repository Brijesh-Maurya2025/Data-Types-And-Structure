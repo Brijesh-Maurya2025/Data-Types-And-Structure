{
  "nbformat": 4,
  "nbformat_minor": 0,
  "metadata": {
    "colab": {
      "provenance": []
    },
    "kernelspec": {
      "name": "python3",
      "display_name": "Python 3"
    },
    "language_info": {
      "name": "python"
    }
  },
  "cells": [
    {
      "cell_type": "markdown",
      "source": [
        "# Data Types and Structures Solutions\n"
      ],
      "metadata": {
        "id": "LcfI4eczXd4E"
      }
    },
    {
      "cell_type": "markdown",
      "source": [
        "### Q1.Write a code to create a string with your name and print it."
      ],
      "metadata": {
        "id": "nGpLbPVmu5oj"
      }
    },
    {
      "cell_type": "code",
      "source": [
        "# Code\n",
        "Name = \"Brijesh Maurya\"\n",
        "print(Name)"
      ],
      "metadata": {
        "colab": {
          "base_uri": "https://localhost:8080/"
        },
        "id": "U7I1_3s-Xt_k",
        "outputId": "9bef83ad-68f8-43b1-e3ca-1293fa7fae25"
      },
      "execution_count": null,
      "outputs": [
        {
          "output_type": "stream",
          "name": "stdout",
          "text": [
            "Brijesh Maurya\n"
          ]
        }
      ]
    },
    {
      "cell_type": "markdown",
      "source": [
        "### Q2.Write a code to find the length of the string \"Hello World\"."
      ],
      "metadata": {
        "id": "gE9lwszZuoBw"
      }
    },
    {
      "cell_type": "code",
      "source": [
        "# Code\n",
        "string = \"Hello World\"\n",
        "length = len(string)\n",
        "print(length)"
      ],
      "metadata": {
        "colab": {
          "base_uri": "https://localhost:8080/"
        },
        "id": "3FfLwOZ6ZBn2",
        "outputId": "55326113-fccb-40d9-de8c-53b12bae5f18"
      },
      "execution_count": 4,
      "outputs": [
        {
          "output_type": "stream",
          "name": "stdout",
          "text": [
            "11\n"
          ]
        }
      ]
    },
    {
      "cell_type": "markdown",
      "source": [
        "### Q3.Write a code to slice the first 3 characters from the string \"Python Programming\"."
      ],
      "metadata": {
        "id": "phWTH-7-vfif"
      }
    },
    {
      "cell_type": "code",
      "source": [
        "# Code\n",
        "string = \"Python Programming\"\n",
        "sliced_string = string[0:3]\n",
        "print(sliced_string)\n"
      ],
      "metadata": {
        "colab": {
          "base_uri": "https://localhost:8080/"
        },
        "id": "kbEh8742ZhtM",
        "outputId": "2a8082df-c421-42dc-fe0a-b53c31e7edb2"
      },
      "execution_count": 3,
      "outputs": [
        {
          "output_type": "stream",
          "name": "stdout",
          "text": [
            "Pyt\n"
          ]
        }
      ]
    },
    {
      "cell_type": "markdown",
      "source": [
        "### Q4.Write a code to convert the string \"hello\" to uppercase."
      ],
      "metadata": {
        "id": "rMLdkEXLw8fm"
      }
    },
    {
      "cell_type": "code",
      "source": [
        "# Code\n",
        "string = \"hello\"\n",
        "uppercase_string = string.upper()\n",
        "print(uppercase_string)"
      ],
      "metadata": {
        "colab": {
          "base_uri": "https://localhost:8080/"
        },
        "id": "7b3JmgAsahxN",
        "outputId": "fb480ea7-7533-4eb1-8ee8-2cb40c1b9d98"
      },
      "execution_count": 5,
      "outputs": [
        {
          "output_type": "stream",
          "name": "stdout",
          "text": [
            "HELLO\n"
          ]
        }
      ]
    },
    {
      "cell_type": "markdown",
      "source": [
        "### Q5.Write a code to replace the word \"apple\" with \"orange\" in the string \"I like apple\"."
      ],
      "metadata": {
        "id": "RR5eEsu5xmec"
      }
    },
    {
      "cell_type": "code",
      "source": [
        "# Code\n",
        "string = \"I like apple\"\n",
        "new_string = string.replace(\"apple\", \"orange\")\n",
        "print(new_string)"
      ],
      "metadata": {
        "colab": {
          "base_uri": "https://localhost:8080/"
        },
        "id": "ILS-lD9vbPW7",
        "outputId": "3f556f13-5621-49d9-c096-1c06c5c7d54a"
      },
      "execution_count": 6,
      "outputs": [
        {
          "output_type": "stream",
          "name": "stdout",
          "text": [
            "I like orange\n"
          ]
        }
      ]
    },
    {
      "cell_type": "markdown",
      "source": [
        "### Q6.Write a code to create a list with numbers 1 to 5 and print it."
      ],
      "metadata": {
        "id": "VnOb87SlyFJF"
      }
    },
    {
      "cell_type": "code",
      "source": [
        "# Code\n",
        "numbers = [1,2,3,4,5]\n",
        "print(numbers)"
      ],
      "metadata": {
        "colab": {
          "base_uri": "https://localhost:8080/"
        },
        "id": "M5-WXgt7esiS",
        "outputId": "8d65a68d-9236-47b8-f5b8-a29834e30997"
      },
      "execution_count": null,
      "outputs": [
        {
          "output_type": "stream",
          "name": "stdout",
          "text": [
            "[1, 2, 3, 4, 5]\n"
          ]
        }
      ]
    },
    {
      "cell_type": "markdown",
      "source": [
        "### Q7.Write a code to append the number 10 to the list [1, 2, 3, 4]."
      ],
      "metadata": {
        "id": "yhzjfSrFyYkg"
      }
    },
    {
      "cell_type": "code",
      "source": [
        "# Code\n",
        "numbers = [1,2,3,4,]\n",
        "numbers.append(10)\n",
        "print(numbers)"
      ],
      "metadata": {
        "colab": {
          "base_uri": "https://localhost:8080/"
        },
        "id": "d5jNZYkpfD1O",
        "outputId": "2451f560-923a-4022-8121-7aa6d0724bb3"
      },
      "execution_count": null,
      "outputs": [
        {
          "output_type": "stream",
          "name": "stdout",
          "text": [
            "[1, 2, 3, 4, 10]\n"
          ]
        }
      ]
    },
    {
      "cell_type": "markdown",
      "source": [
        "### Q8.Write a code to remove the number 3 from the list [1, 2, 3, 4, 5]."
      ],
      "metadata": {
        "id": "5GYoTbVSysuB"
      }
    },
    {
      "cell_type": "code",
      "source": [
        "# Code\n",
        "numbers =[1,2,3,4,5]\n",
        "numbers.remove(3)\n",
        "print(numbers)"
      ],
      "metadata": {
        "colab": {
          "base_uri": "https://localhost:8080/"
        },
        "id": "DjlZhAHCfdl3",
        "outputId": "57aee6fd-df1b-4ad4-cdd9-c4755021ce80"
      },
      "execution_count": 8,
      "outputs": [
        {
          "output_type": "stream",
          "name": "stdout",
          "text": [
            "[1, 2, 4, 5]\n"
          ]
        }
      ]
    },
    {
      "cell_type": "markdown",
      "source": [
        "### Q9.Write a code to access the second element in the list ['a', 'b', 'c', 'd']."
      ],
      "metadata": {
        "id": "AAnePZxOzIv7"
      }
    },
    {
      "cell_type": "code",
      "source": [
        "# Code\n",
        "letters = ['a','b','c','d']\n",
        "second_element = letters[1]\n",
        "print(second_element)"
      ],
      "metadata": {
        "colab": {
          "base_uri": "https://localhost:8080/"
        },
        "id": "CVIoTOigf8YM",
        "outputId": "df750f3b-3aee-4d69-9f12-2cc2a1dade5f"
      },
      "execution_count": 7,
      "outputs": [
        {
          "output_type": "stream",
          "name": "stdout",
          "text": [
            "b\n"
          ]
        }
      ]
    },
    {
      "cell_type": "markdown",
      "source": [
        "### Q10.Write a code to reverse the list [10, 20, 30, 40, 50]."
      ],
      "metadata": {
        "id": "7Qwb2g4jzc22"
      }
    },
    {
      "cell_type": "code",
      "source": [
        "# Code\n",
        "numbers = [10,20,30,40,50]\n",
        "numbers.reverse()\n",
        "print(numbers)"
      ],
      "metadata": {
        "colab": {
          "base_uri": "https://localhost:8080/"
        },
        "id": "6xdtMVU8g6Cc",
        "outputId": "b59caea0-a7b7-4178-f35b-ce16cf44fdf1"
      },
      "execution_count": 9,
      "outputs": [
        {
          "output_type": "stream",
          "name": "stdout",
          "text": [
            "[50, 40, 30, 20, 10]\n"
          ]
        }
      ]
    },
    {
      "cell_type": "markdown",
      "source": [
        "### Q11.Write a code to create a tuple with the elements 100, 200, 300 and print it."
      ],
      "metadata": {
        "id": "7m9CqVyvzu__"
      }
    },
    {
      "cell_type": "code",
      "source": [
        "# Code\n",
        "my_tuple = [100, 200, 300]\n",
        "print(my_tuple)"
      ],
      "metadata": {
        "colab": {
          "base_uri": "https://localhost:8080/"
        },
        "id": "qao98vCIh4bw",
        "outputId": "bbdcdef2-802f-4c0a-cd6f-f272948f78e4"
      },
      "execution_count": null,
      "outputs": [
        {
          "output_type": "stream",
          "name": "stdout",
          "text": [
            "[100, 200, 300]\n"
          ]
        }
      ]
    },
    {
      "cell_type": "markdown",
      "source": [
        "### Q12.Write a code to access the second-to-last element of the tuple ('red', 'green', 'blue', 'yellow')."
      ],
      "metadata": {
        "id": "FNo0uefM01oS"
      }
    },
    {
      "cell_type": "code",
      "source": [
        "# Code\n",
        "my_tuple = ('red', 'green', 'blue', 'yellow')\n",
        "second_to_last_element = my_tuple[-2]\n",
        "print(second_to_last_element)\n"
      ],
      "metadata": {
        "colab": {
          "base_uri": "https://localhost:8080/"
        },
        "id": "1kq8N02rivb6",
        "outputId": "546ff89d-63ae-4268-a35b-e2056f2c2873"
      },
      "execution_count": 10,
      "outputs": [
        {
          "output_type": "stream",
          "name": "stdout",
          "text": [
            "blue\n"
          ]
        }
      ]
    },
    {
      "cell_type": "markdown",
      "source": [
        "### Q13.Write a code to find the minimum number in the tuple (10, 20, 5, 15)"
      ],
      "metadata": {
        "id": "ACrjGiWR2JPT"
      }
    },
    {
      "cell_type": "code",
      "source": [
        "# Code\n",
        "my_tuple = (10, 20, 5, 15)\n",
        "minimum = min(my_tuple)\n",
        "print(\"The minimum number is:\", minimum)\n"
      ],
      "metadata": {
        "colab": {
          "base_uri": "https://localhost:8080/"
        },
        "id": "vjpyu1UxjUNE",
        "outputId": "37bb3780-3b2c-44ca-a8ca-222fb5a83ffa"
      },
      "execution_count": 11,
      "outputs": [
        {
          "output_type": "stream",
          "name": "stdout",
          "text": [
            "The minimum number is: 5\n"
          ]
        }
      ]
    },
    {
      "cell_type": "markdown",
      "source": [
        "### Q14.Write a code to find the index of the element \"cat\" in the tuple = ('dog', 'cat', 'rabbit')."
      ],
      "metadata": {
        "id": "k1CgP-6f2QC6"
      }
    },
    {
      "cell_type": "code",
      "source": [
        "# Code\n",
        "my_tuple = ('dog', 'cat', 'rabbit')\n",
        "index = my_tuple.index('cat')\n",
        "print(index)"
      ],
      "metadata": {
        "colab": {
          "base_uri": "https://localhost:8080/"
        },
        "id": "r2cmeu4dkai5",
        "outputId": "2c6cb41d-591c-48b4-a1e3-fe384806009c"
      },
      "execution_count": 13,
      "outputs": [
        {
          "output_type": "stream",
          "name": "stdout",
          "text": [
            "1\n"
          ]
        }
      ]
    },
    {
      "cell_type": "markdown",
      "source": [
        "### Q15.  Write a code to create a tuple containing three different fruits and check if \"kiwi\" is in it."
      ],
      "metadata": {
        "id": "fAMThpJ72ptk"
      }
    },
    {
      "cell_type": "code",
      "source": [
        "# Code\n",
        "my_tuple = ('apple', 'orange', 'banana')\n",
        "exists = 'banana' in my_tuple\n",
        "print(exists)"
      ],
      "metadata": {
        "colab": {
          "base_uri": "https://localhost:8080/"
        },
        "id": "ttijWC5HnR6R",
        "outputId": "6a464d6e-e37d-4de5-c0c4-4f45ecb3bbc1"
      },
      "execution_count": 14,
      "outputs": [
        {
          "output_type": "stream",
          "name": "stdout",
          "text": [
            "True\n"
          ]
        }
      ]
    },
    {
      "cell_type": "markdown",
      "source": [
        "### Q16.Write a code to create a set with the elements 'a', 'b', 'c' and print it.\n"
      ],
      "metadata": {
        "id": "8kzGS8uK3A2e"
      }
    },
    {
      "cell_type": "code",
      "source": [
        "# Code\n",
        "my_set = {'a','b','c'}\n",
        "print(my_set)\n"
      ],
      "metadata": {
        "colab": {
          "base_uri": "https://localhost:8080/"
        },
        "id": "l0S0SAbirh1g",
        "outputId": "98001810-a634-4d66-a9fd-d2a76fb15a21"
      },
      "execution_count": 16,
      "outputs": [
        {
          "output_type": "stream",
          "name": "stdout",
          "text": [
            "{'b', 'a', 'c'}\n"
          ]
        }
      ]
    },
    {
      "cell_type": "markdown",
      "source": [
        "### Q17.Write a code to clear all elements from the set {1, 2, 3, 4, 5}."
      ],
      "metadata": {
        "id": "L-1Nyc_C3ZIB"
      }
    },
    {
      "cell_type": "code",
      "source": [
        "# Code\n",
        "my_set ={1,2,3,4,5}\n",
        "my_set.clear()\n",
        "print(my_set)"
      ],
      "metadata": {
        "colab": {
          "base_uri": "https://localhost:8080/"
        },
        "id": "eT-KgaPusQcp",
        "outputId": "0b908407-1ab3-497b-929a-28f527ea20c2"
      },
      "execution_count": 17,
      "outputs": [
        {
          "output_type": "stream",
          "name": "stdout",
          "text": [
            "set()\n"
          ]
        }
      ]
    },
    {
      "cell_type": "markdown",
      "source": [
        "### Q18.Write a code to remove the element 4 from the set {1, 2, 3, 4}."
      ],
      "metadata": {
        "id": "_NUIbglp32HY"
      }
    },
    {
      "cell_type": "code",
      "source": [
        "# Code\n",
        "my_set = {1,2,3,4}\n",
        "my_set.remove(4)\n",
        "print(my_set)"
      ],
      "metadata": {
        "colab": {
          "base_uri": "https://localhost:8080/"
        },
        "id": "C8dQ3R7Dswwb",
        "outputId": "4317b499-4e01-488b-e5c4-115dab1b3237"
      },
      "execution_count": 18,
      "outputs": [
        {
          "output_type": "stream",
          "name": "stdout",
          "text": [
            "{1, 2, 3}\n"
          ]
        }
      ]
    },
    {
      "cell_type": "markdown",
      "source": [
        "### Q19.Write a code to find the union of two sets {1, 2, 3} and {3, 4, 5}."
      ],
      "metadata": {
        "id": "_--rzlSf4JOw"
      }
    },
    {
      "cell_type": "code",
      "source": [
        "# Code\n",
        "set1 = {1,2,3}\n",
        "set2 = {3,4,5}\n",
        "union_set = set1.union(set2)\n",
        "print(union_set)"
      ],
      "metadata": {
        "colab": {
          "base_uri": "https://localhost:8080/"
        },
        "id": "SRgLeFSXtLKX",
        "outputId": "e75d7a42-b209-46f5-f2fd-76c2c5a6b886"
      },
      "execution_count": 19,
      "outputs": [
        {
          "output_type": "stream",
          "name": "stdout",
          "text": [
            "{1, 2, 3, 4, 5}\n"
          ]
        }
      ]
    },
    {
      "cell_type": "markdown",
      "source": [
        "### Q20.Write a code to find the intersection of two sets {1, 2, 3} and {2, 3, 4}."
      ],
      "metadata": {
        "id": "IifmKFP-4fc0"
      }
    },
    {
      "cell_type": "code",
      "source": [
        "# Code\n",
        "set1 = {1,2,3}\n",
        "set2 = {2,3,4}\n",
        "intersection_set= set1.intersection(set2)\n",
        "print(intersection_set)"
      ],
      "metadata": {
        "colab": {
          "base_uri": "https://localhost:8080/"
        },
        "id": "QUMghkRctpPh",
        "outputId": "21e3847b-5494-4276-87d1-528dcca46735"
      },
      "execution_count": 20,
      "outputs": [
        {
          "output_type": "stream",
          "name": "stdout",
          "text": [
            "{2, 3}\n"
          ]
        }
      ]
    },
    {
      "cell_type": "markdown",
      "source": [
        "### Q21.Write a code to create a dictionary with the keys \"name\", \"age\", and \"city\", and print it."
      ],
      "metadata": {
        "id": "xo4Ol1aM5EuX"
      }
    },
    {
      "cell_type": "code",
      "source": [
        "# Code\n",
        "my_dict = {\"name\":\"Brijesh\",\"age\":25,\"city\":\"Gurugram\"}\n",
        "print(my_dict)\n"
      ],
      "metadata": {
        "colab": {
          "base_uri": "https://localhost:8080/"
        },
        "id": "EhSpwuvuuYgz",
        "outputId": "24418740-adcc-473d-d72c-a2aacc8393ea"
      },
      "execution_count": 21,
      "outputs": [
        {
          "output_type": "stream",
          "name": "stdout",
          "text": [
            "{'name': 'Brijesh', 'age': 25, 'city': 'Gurugram'}\n"
          ]
        }
      ]
    },
    {
      "cell_type": "markdown",
      "source": [
        "### Q22.Write a code to add a new key-value pair \"country\": \"USA\" to the dictionary {'name': 'John', 'age': 25}."
      ],
      "metadata": {
        "id": "wlWt2thz5KEO"
      }
    },
    {
      "cell_type": "code",
      "source": [
        "# Code\n",
        "my_dict = {'name': 'John', 'age': 25}\n",
        "# Adding new key_value pair\n",
        "my_dict[\"country\"] = \"USA\"\n",
        "print(my_dict)"
      ],
      "metadata": {
        "colab": {
          "base_uri": "https://localhost:8080/"
        },
        "id": "exFKmWB2viBA",
        "outputId": "4f4ba521-7df8-49ba-984a-ae4f1ba9f639"
      },
      "execution_count": 23,
      "outputs": [
        {
          "output_type": "stream",
          "name": "stdout",
          "text": [
            "{'name': 'John', 'age': 25, 'country': 'USA'}\n"
          ]
        }
      ]
    },
    {
      "cell_type": "markdown",
      "source": [
        "### Q23.Write a code to access the value associated with the key \"name\" in the dictionary {'name': 'Alice', 'age': 30}."
      ],
      "metadata": {
        "id": "jeUbIqih5qPQ"
      }
    },
    {
      "cell_type": "code",
      "source": [
        "# Code\n",
        "my_dict = {'name': 'Alice', 'age': 30}\n",
        "name_value = my_dict[\"name\"]\n",
        "print(name_value)\n"
      ],
      "metadata": {
        "colab": {
          "base_uri": "https://localhost:8080/"
        },
        "id": "zz5z7uLSwTTm",
        "outputId": "3dc5e998-1927-4d31-fa98-8cff065da976"
      },
      "execution_count": 24,
      "outputs": [
        {
          "output_type": "stream",
          "name": "stdout",
          "text": [
            "Alice\n"
          ]
        }
      ]
    },
    {
      "cell_type": "markdown",
      "source": [
        "### Q24.Write a code to remove the key \"age\" from the dictionary {'name': 'Bob', 'age': 22, 'city': 'New York'}."
      ],
      "metadata": {
        "id": "iKc2Gvj96GZg"
      }
    },
    {
      "cell_type": "code",
      "source": [
        "# Code\n",
        "my_dict = {'name': 'Bob', 'age': 22, 'city': 'New York'}\n",
        "del my_dict[\"age\"]\n",
        "print(my_dict)\n"
      ],
      "metadata": {
        "colab": {
          "base_uri": "https://localhost:8080/"
        },
        "id": "2RPDtcXSz3W-",
        "outputId": "bcd8b841-b8ed-463f-f311-f9387c6b7ed4"
      },
      "execution_count": 25,
      "outputs": [
        {
          "output_type": "stream",
          "name": "stdout",
          "text": [
            "{'name': 'Bob', 'city': 'New York'}\n"
          ]
        }
      ]
    },
    {
      "cell_type": "markdown",
      "source": [
        "### Q25. Write a code to check if the key \"city\" exists in the dictionary {'name': 'Alice', 'city': 'Paris'}."
      ],
      "metadata": {
        "id": "GGtEV-4F6YL-"
      }
    },
    {
      "cell_type": "code",
      "source": [
        "# Code\n",
        "my_dict = {'name': 'Alice', 'city': 'Paris'}\n",
        "exists = \"city\" in my_dict\n",
        "print(exists)"
      ],
      "metadata": {
        "colab": {
          "base_uri": "https://localhost:8080/"
        },
        "id": "RUcHo6i95K-v",
        "outputId": "15479dab-2563-413f-e472-3495478a85ae"
      },
      "execution_count": 26,
      "outputs": [
        {
          "output_type": "stream",
          "name": "stdout",
          "text": [
            "True\n"
          ]
        }
      ]
    },
    {
      "cell_type": "markdown",
      "source": [
        "### Q26. Write a code to create a list, a tuple, and a dictionary, and print them all."
      ],
      "metadata": {
        "id": "LQKXpzcG6oY5"
      }
    },
    {
      "cell_type": "code",
      "source": [
        "# Code\n",
        "# Creating a list\n",
        "my_list = (1,2,3,4,5,)\n",
        "\n",
        "#Creating a tuple\n",
        "my_tuple = (\"apple\",\"mango\",\"banana\")\n",
        "\n",
        "#Creating a dictionary\n",
        "my_dict = {\"name\":\"Brijesh\",\"age\":25}\n",
        "\n",
        "#Print them all\n",
        "print(my_list)\n",
        "print(my_tuple)\n",
        "print(my_dict)\n",
        "\n"
      ],
      "metadata": {
        "colab": {
          "base_uri": "https://localhost:8080/"
        },
        "id": "dR4EPI0D7YBH",
        "outputId": "1a642c98-f5c1-4c97-b359-9af1b7947a7b"
      },
      "execution_count": null,
      "outputs": [
        {
          "output_type": "stream",
          "name": "stdout",
          "text": [
            "(1, 2, 3, 4, 5)\n",
            "('apple', 'mango', 'banana')\n",
            "{'name': 'Brijesh', 'age': 25}\n"
          ]
        }
      ]
    },
    {
      "cell_type": "markdown",
      "source": [
        "### Q27.Write a code to create a list of 5 random numbers between 1 and 100, sort it in ascending order, and print the result.(replaced)."
      ],
      "metadata": {
        "id": "QfKlktsP65tc"
      }
    },
    {
      "cell_type": "code",
      "source": [
        "# Code\n",
        "import random\n",
        "random_numbers = [random.randint(1,100) for _ in range(5)]\n",
        "random_numbers.sort()\n",
        "print(random_numbers)\n"
      ],
      "metadata": {
        "colab": {
          "base_uri": "https://localhost:8080/"
        },
        "id": "UCo3EJ35Fgx1",
        "outputId": "e0729de0-0c32-4680-818c-0db6f12ee526"
      },
      "execution_count": 27,
      "outputs": [
        {
          "output_type": "stream",
          "name": "stdout",
          "text": [
            "[8, 30, 38, 84, 97]\n"
          ]
        }
      ]
    },
    {
      "cell_type": "markdown",
      "source": [
        "### Q28.Write a code to create a list with strings and print the element at the third index."
      ],
      "metadata": {
        "id": "0SrUDuJl77Fm"
      }
    },
    {
      "cell_type": "code",
      "source": [
        "# Code\n",
        "my_list = (\"Ajay\", \"Vijay\", \"Sonu\",\"Monu\")\n",
        "third_element = my_list[2]\n",
        "print(third_element)\n"
      ],
      "metadata": {
        "colab": {
          "base_uri": "https://localhost:8080/"
        },
        "id": "cPktoeF2HhGp",
        "outputId": "581e57ae-dd4e-4009-fca4-a2c28ea5dd32"
      },
      "execution_count": 28,
      "outputs": [
        {
          "output_type": "stream",
          "name": "stdout",
          "text": [
            "Sonu\n"
          ]
        }
      ]
    },
    {
      "cell_type": "markdown",
      "source": [
        "### 29.Write a code to combine two dictionaries into one and print the result."
      ],
      "metadata": {
        "id": "shnpzswh8dO3"
      }
    },
    {
      "cell_type": "code",
      "source": [
        "# Code\n",
        "dict1 = {\"Name\":\"Brijesh\"}\n",
        "dict2 = {\"Age\":25}\n",
        "combined_dict = {**dict1, **dict2}\n",
        "print(combined_dict)"
      ],
      "metadata": {
        "colab": {
          "base_uri": "https://localhost:8080/"
        },
        "id": "Rr_sWbzIJi9c",
        "outputId": "1fb631b7-8065-4699-9e9e-922fa49e75dd"
      },
      "execution_count": 29,
      "outputs": [
        {
          "output_type": "stream",
          "name": "stdout",
          "text": [
            "{'Name': 'Brijesh', 'Age': 25}\n"
          ]
        }
      ]
    },
    {
      "cell_type": "markdown",
      "source": [
        "### Q30.Write a code to convert a list of strings into a set."
      ],
      "metadata": {
        "id": "hi8iiwNo8zXL"
      }
    },
    {
      "cell_type": "code",
      "source": [
        "# Code\n",
        "my_list = [\"apple\", \"banana\", \"apple\", \"orange\", \"banana\"]\n",
        "my_set = set(my_list)\n",
        "print(my_set)\n"
      ],
      "metadata": {
        "id": "g8rmw7s8O_L_",
        "colab": {
          "base_uri": "https://localhost:8080/"
        },
        "outputId": "77eaf396-8584-4e67-9236-e8ecea4ee54f"
      },
      "execution_count": 30,
      "outputs": [
        {
          "output_type": "stream",
          "name": "stdout",
          "text": [
            "{'banana', 'orange', 'apple'}\n"
          ]
        }
      ]
    },
    {
      "cell_type": "code",
      "source": [],
      "metadata": {
        "id": "DCiJR10EbDMw"
      },
      "execution_count": null,
      "outputs": []
    }
  ]
}